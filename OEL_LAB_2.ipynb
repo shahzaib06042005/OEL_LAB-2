{
  "nbformat": 4,
  "nbformat_minor": 0,
  "metadata": {
    "colab": {
      "provenance": []
    },
    "kernelspec": {
      "name": "python3",
      "display_name": "Python 3"
    },
    "language_info": {
      "name": "python"
    }
  },
  "cells": [
    {
      "cell_type": "code",
      "source": [
        "#roll no : 23-AI-42"
      ],
      "metadata": {
        "id": "0Ul1BI5-TYGI"
      },
      "execution_count": 8,
      "outputs": []
    },
    {
      "cell_type": "code",
      "execution_count": null,
      "metadata": {
        "id": "p5bItj_ZNx-q",
        "colab": {
          "base_uri": "https://localhost:8080/"
        },
        "outputId": "a3717607-d48e-4915-fc62-137a3fa7c093"
      },
      "outputs": [
        {
          "output_type": "stream",
          "name": "stdout",
          "text": [
            "BFS Path: ['A', 'B', 'D', 'G']\n",
            "BFS Distance: 13\n",
            "DFS Path: ['A', 'C', 'F', 'G']\n",
            "DFS Distance: 7\n"
          ]
        }
      ],
      "source": [
        "from collections import deque\n",
        "\n",
        "graph = {\n",
        "    'A': [('B', 6), ('C', 2)],\n",
        "    'B': [('D', 5), ('E', 3)],\n",
        "    'C': [('F', 4)],\n",
        "    'D': [('G', 2)],\n",
        "    'E': [('G', 6)],\n",
        "    'F': [('G', 1)],\n",
        "    'G': []\n",
        "}\n",
        "\n",
        "# BFS:\n",
        "def bfs(start, goal):\n",
        "    queue = deque([(start, [start])])# Initialize queue with the start node and path\n",
        "    while queue:\n",
        "        node, path = queue.popleft()# Get the next node and its path\n",
        "        if node == goal:\n",
        "            return path # Return the path if goal is found\n",
        "        for neighbor, _ in graph[node]: # Explore all neighbors\n",
        "            if neighbor not in path:\n",
        "                queue.append((neighbor, path + [neighbor])) # Add neighbor and updated path\n",
        "    return None  # Return None if goal not found\n",
        "\n",
        "# DFS:\n",
        "def dfs(start, goal):\n",
        "    stack = [(start, [start])]\n",
        "    while stack:\n",
        "        node, path = stack.pop()\n",
        "        if node == goal:\n",
        "            return path\n",
        "        for neighbor, _ in graph[node]:\n",
        "            if neighbor not in path:\n",
        "                stack.append((neighbor, path + [neighbor]))\n",
        "    return None\n",
        "\n",
        "# Calculate total distance of the path\n",
        "def calculate_distance(path):\n",
        "    distance = 0\n",
        "    for i in range(len(path) - 1):\n",
        "        for neighbor, dist in graph[path[i]]:\n",
        "            if neighbor == path[i + 1]:\n",
        "                distance += dist\n",
        "                break\n",
        "    return distance\n",
        "\n",
        "# Run search algorithms\n",
        "bfs_res = bfs('A', 'G')\n",
        "dfs_res = dfs('A', 'G')\n",
        "\n",
        "bfs_dist = calculate_distance(bfs_res)\n",
        "dfs_dist = calculate_distance(dfs_res)\n",
        "\n",
        "# Output results\n",
        "print(\"BFS Path:\", bfs_res)\n",
        "print(\"BFS Distance:\", bfs_dist)\n",
        "print(\"DFS Path:\", dfs_res)\n",
        "print(\"DFS Distance:\", dfs_dist)\n"
      ]
    }
  ]
}